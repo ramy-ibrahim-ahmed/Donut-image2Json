{
 "cells": [
  {
   "cell_type": "code",
   "execution_count": 1,
   "metadata": {
    "execution": {
     "iopub.execute_input": "2025-02-05T00:43:44.948405Z",
     "iopub.status.busy": "2025-02-05T00:43:44.948021Z",
     "iopub.status.idle": "2025-02-05T00:44:21.420236Z",
     "shell.execute_reply": "2025-02-05T00:44:21.419356Z",
     "shell.execute_reply.started": "2025-02-05T00:43:44.948373Z"
    },
    "trusted": true
   },
   "outputs": [
    {
     "name": "stdout",
     "output_type": "stream",
     "text": [
      "  Installing build dependencies ... \u001b[?25l\u001b[?25hdone\n",
      "  Getting requirements to build wheel ... \u001b[?25l\u001b[?25hdone\n",
      "  Preparing metadata (pyproject.toml) ... \u001b[?25l\u001b[?25hdone\n",
      "  Building wheel for transformers (pyproject.toml) ... \u001b[?25l\u001b[?25hdone\n",
      "\u001b[2K   \u001b[90m━━━━━━━━━━━━━━━━━━━━━━━━━━━━━━━━━━━━━━━━\u001b[0m \u001b[32m84.0/84.0 kB\u001b[0m \u001b[31m4.1 MB/s\u001b[0m eta \u001b[36m0:00:00\u001b[0m\n",
      "\u001b[2K   \u001b[90m━━━━━━━━━━━━━━━━━━━━━━━━━━━━━━━━━━━━━━━━\u001b[0m \u001b[32m98.2/98.2 kB\u001b[0m \u001b[31m7.1 MB/s\u001b[0m eta \u001b[36m0:00:00\u001b[0m\n",
      "\u001b[2K   \u001b[90m━━━━━━━━━━━━━━━━━━━━━━━━━━━━━━━━━━━━━━━━\u001b[0m \u001b[32m3.1/3.1 MB\u001b[0m \u001b[31m78.2 MB/s\u001b[0m eta \u001b[36m0:00:00\u001b[0m:00:01\u001b[0m\n",
      "\u001b[?25h"
     ]
    }
   ],
   "source": [
    "!pip install -q git+https://github.com/huggingface/transformers.git\n",
    "!pip install -q datasets sentencepiece evaluate jiwer"
   ]
  },
  {
   "cell_type": "code",
   "execution_count": 2,
   "metadata": {
    "execution": {
     "iopub.execute_input": "2025-02-05T00:44:21.422030Z",
     "iopub.status.busy": "2025-02-05T00:44:21.421702Z",
     "iopub.status.idle": "2025-02-05T00:44:32.766487Z",
     "shell.execute_reply": "2025-02-05T00:44:32.765625Z",
     "shell.execute_reply.started": "2025-02-05T00:44:21.421998Z"
    },
    "trusted": true
   },
   "outputs": [
    {
     "name": "stderr",
     "output_type": "stream",
     "text": [
      "Cloning into 'ICDAR-2019-SROIE'...\n",
      "Updating files: 100% (1980/1980), done.\n"
     ]
    }
   ],
   "source": [
    "%%bash\n",
    "git clone https://github.com/zzzDavid/ICDAR-2019-SROIE.git\n",
    "cp -r ICDAR-2019-SROIE/data ./\n",
    "rm -rf ICDAR-2019-SROIE\n",
    "rm -rf data/box"
   ]
  },
  {
   "cell_type": "code",
   "execution_count": 3,
   "metadata": {
    "execution": {
     "iopub.execute_input": "2025-02-05T00:44:32.768822Z",
     "iopub.status.busy": "2025-02-05T00:44:32.768585Z",
     "iopub.status.idle": "2025-02-05T00:44:36.601264Z",
     "shell.execute_reply": "2025-02-05T00:44:36.600359Z",
     "shell.execute_reply.started": "2025-02-05T00:44:32.768802Z"
    },
    "trusted": true
   },
   "outputs": [],
   "source": [
    "import os\n",
    "import json\n",
    "from pathlib import Path\n",
    "import shutil\n",
    "import transformers\n",
    " \n",
    "transformers.logging.disable_default_handler()\n",
    " \n",
    "base_path = Path(\"data\")\n",
    "metadata_path = base_path.joinpath(\"key\")\n",
    "image_path = base_path.joinpath(\"img\")\n",
    "metadata_list = []\n",
    " \n",
    "for file_name in metadata_path.glob(\"*.json\"):\n",
    "  with open(file_name, \"r\") as json_file:\n",
    "    data = json.load(json_file)\n",
    "    text = json.dumps(data)\n",
    "    if image_path.joinpath(f\"{file_name.stem}.jpg\").is_file():\n",
    "      metadata_list.append({\"text\":text,\"file_name\":f\"{file_name.stem}.jpg\"})\n",
    " \n",
    "with open(image_path.joinpath('metadata.jsonl'), 'w') as outfile:\n",
    "    for entry in metadata_list:\n",
    "        json.dump(entry, outfile)\n",
    "        outfile.write('\\n')\n",
    " \n",
    "shutil.rmtree(metadata_path)"
   ]
  },
  {
   "cell_type": "code",
   "execution_count": 4,
   "metadata": {
    "execution": {
     "iopub.execute_input": "2025-02-05T00:44:36.602992Z",
     "iopub.status.busy": "2025-02-05T00:44:36.602580Z",
     "iopub.status.idle": "2025-02-05T00:44:38.956657Z",
     "shell.execute_reply": "2025-02-05T00:44:38.955983Z",
     "shell.execute_reply.started": "2025-02-05T00:44:36.602967Z"
    },
    "trusted": true
   },
   "outputs": [
    {
     "data": {
      "application/vnd.jupyter.widget-view+json": {
       "model_id": "bb68d2005620409793855db578b55900",
       "version_major": 2,
       "version_minor": 0
      },
      "text/plain": [
       "Resolving data files:   0%|          | 0/627 [00:00<?, ?it/s]"
      ]
     },
     "metadata": {},
     "output_type": "display_data"
    },
    {
     "data": {
      "application/vnd.jupyter.widget-view+json": {
       "model_id": "20359eb0faee4b4fa8ffa173f6ef01bb",
       "version_major": 2,
       "version_minor": 0
      },
      "text/plain": [
       "Downloading data:   0%|          | 0/627 [00:00<?, ?files/s]"
      ]
     },
     "metadata": {},
     "output_type": "display_data"
    },
    {
     "data": {
      "application/vnd.jupyter.widget-view+json": {
       "model_id": "59811bfe77f942879287d0030d701821",
       "version_major": 2,
       "version_minor": 0
      },
      "text/plain": [
       "Generating train split: 0 examples [00:00, ? examples/s]"
      ]
     },
     "metadata": {},
     "output_type": "display_data"
    }
   ],
   "source": [
    "from datasets import load_dataset\n",
    "\n",
    "base_path = Path(\"data\")\n",
    "image_path = base_path.joinpath(\"img\")\n",
    "dataset = load_dataset(\"imagefolder\", data_dir=image_path, split=\"train\")"
   ]
  },
  {
   "cell_type": "code",
   "execution_count": 5,
   "metadata": {
    "execution": {
     "iopub.execute_input": "2025-02-05T00:44:38.958046Z",
     "iopub.status.busy": "2025-02-05T00:44:38.957533Z",
     "iopub.status.idle": "2025-02-05T00:44:38.963923Z",
     "shell.execute_reply": "2025-02-05T00:44:38.963014Z",
     "shell.execute_reply.started": "2025-02-05T00:44:38.958010Z"
    },
    "trusted": true
   },
   "outputs": [],
   "source": [
    "task_start_token = \"<s>\"\n",
    "eos_token = \"</s>\"\n",
    "new_special_tokens = []\n",
    "\n",
    "def json2token(obj, update_special_tokens_for_json_key=True, sort_json_key=True):\n",
    "    if isinstance(obj, dict):\n",
    "        if len(obj) == 1 and \"text_sequence\" in obj:\n",
    "            return obj[\"text_sequence\"]\n",
    "        \n",
    "        output = \"\"\n",
    "        keys = sorted(obj.keys(), reverse=True) if sort_json_key else obj.keys()\n",
    "        for k in keys:\n",
    "            if update_special_tokens_for_json_key:\n",
    "                new_special_tokens.append(fr\"<s_{k}>\") if fr\"<s_{k}>\" not in new_special_tokens else None\n",
    "                new_special_tokens.append(fr\"</s_{k}>\") if fr\"</s_{k}>\" not in new_special_tokens else None\n",
    "            output += (\n",
    "                fr\"<s_{k}>\"\n",
    "                + json2token(obj[k], update_special_tokens_for_json_key, sort_json_key)\n",
    "                + fr\"</s_{k}>\"\n",
    "            )\n",
    "        return output\n",
    "    elif isinstance(obj, list):\n",
    "        return r\"<sep/>\".join([json2token(item) for item in obj])\n",
    "    else:\n",
    "        obj = str(obj)\n",
    "        if f\"<{obj}/>\" in new_special_tokens:\n",
    "            obj = f\"<{obj}/>\"\n",
    "        return obj"
   ]
  },
  {
   "cell_type": "code",
   "execution_count": 6,
   "metadata": {
    "execution": {
     "iopub.execute_input": "2025-02-05T00:44:38.965018Z",
     "iopub.status.busy": "2025-02-05T00:44:38.964687Z",
     "iopub.status.idle": "2025-02-05T00:44:39.046366Z",
     "shell.execute_reply": "2025-02-05T00:44:39.045452Z",
     "shell.execute_reply.started": "2025-02-05T00:44:38.964987Z"
    },
    "trusted": true
   },
   "outputs": [
    {
     "data": {
      "application/vnd.jupyter.widget-view+json": {
       "model_id": "152c85c6800144d8b1c499d47d8c95e2",
       "version_major": 2,
       "version_minor": 0
      },
      "text/plain": [
       "Map:   0%|          | 0/626 [00:00<?, ? examples/s]"
      ]
     },
     "metadata": {},
     "output_type": "display_data"
    }
   ],
   "source": [
    "def collect_special_tokens(sample):\n",
    "    text = json.loads(sample[\"text\"])\n",
    "    json2token(text)\n",
    "    return sample\n",
    "\n",
    "_ = dataset.map(collect_special_tokens)"
   ]
  },
  {
   "cell_type": "code",
   "execution_count": 7,
   "metadata": {
    "execution": {
     "iopub.execute_input": "2025-02-05T00:44:39.047386Z",
     "iopub.status.busy": "2025-02-05T00:44:39.047144Z",
     "iopub.status.idle": "2025-02-05T00:44:58.228844Z",
     "shell.execute_reply": "2025-02-05T00:44:58.228079Z",
     "shell.execute_reply.started": "2025-02-05T00:44:39.047366Z"
    },
    "trusted": true
   },
   "outputs": [
    {
     "data": {
      "application/vnd.jupyter.widget-view+json": {
       "model_id": "e06cfe9a9e8144ef8ff29e49e7a218f6",
       "version_major": 2,
       "version_minor": 0
      },
      "text/plain": [
       "preprocessor_config.json:   0%|          | 0.00/362 [00:00<?, ?B/s]"
      ]
     },
     "metadata": {},
     "output_type": "display_data"
    },
    {
     "name": "stderr",
     "output_type": "stream",
     "text": [
      "Using a slow image processor as `use_fast` is unset and a slow processor was saved with this model. `use_fast=True` will be the default behavior in v4.48, even if the model was saved with a slow processor. This will result in minor differences in outputs. You'll still be able to use a slow processor with `use_fast=False`.\n"
     ]
    },
    {
     "data": {
      "application/vnd.jupyter.widget-view+json": {
       "model_id": "8305387bdf374f10b0669730cd16d769",
       "version_major": 2,
       "version_minor": 0
      },
      "text/plain": [
       "tokenizer_config.json:   0%|          | 0.00/518 [00:00<?, ?B/s]"
      ]
     },
     "metadata": {},
     "output_type": "display_data"
    },
    {
     "data": {
      "application/vnd.jupyter.widget-view+json": {
       "model_id": "952122cda0a94395802d797c4cb4a0f0",
       "version_major": 2,
       "version_minor": 0
      },
      "text/plain": [
       "sentencepiece.bpe.model:   0%|          | 0.00/1.30M [00:00<?, ?B/s]"
      ]
     },
     "metadata": {},
     "output_type": "display_data"
    },
    {
     "data": {
      "application/vnd.jupyter.widget-view+json": {
       "model_id": "e19723c8993a421794338dad90f70100",
       "version_major": 2,
       "version_minor": 0
      },
      "text/plain": [
       "tokenizer.json:   0%|          | 0.00/4.01M [00:00<?, ?B/s]"
      ]
     },
     "metadata": {},
     "output_type": "display_data"
    },
    {
     "data": {
      "application/vnd.jupyter.widget-view+json": {
       "model_id": "1ad8d29b0e554903b6ffa58e9acb3ea3",
       "version_major": 2,
       "version_minor": 0
      },
      "text/plain": [
       "added_tokens.json:   0%|          | 0.00/71.0 [00:00<?, ?B/s]"
      ]
     },
     "metadata": {},
     "output_type": "display_data"
    },
    {
     "data": {
      "application/vnd.jupyter.widget-view+json": {
       "model_id": "7826979b51c54519964c983b8d41cdfc",
       "version_major": 2,
       "version_minor": 0
      },
      "text/plain": [
       "special_tokens_map.json:   0%|          | 0.00/355 [00:00<?, ?B/s]"
      ]
     },
     "metadata": {},
     "output_type": "display_data"
    },
    {
     "data": {
      "text/plain": [
       "8"
      ]
     },
     "execution_count": 7,
     "metadata": {},
     "output_type": "execute_result"
    }
   ],
   "source": [
    "from transformers import DonutProcessor\n",
    "\n",
    "processor = DonutProcessor.from_pretrained(\"naver-clova-ix/donut-base\")\n",
    "processor.image_processor.size = [720, 960]\n",
    "processor.image_processor.do_align_long_axis = False\n",
    "\n",
    "new_special_tokens = list(set(new_special_tokens))\n",
    "new_special_tokens.sort()\n",
    "\n",
    "processor.tokenizer.add_special_tokens({\n",
    "    \"additional_special_tokens\": new_special_tokens + [task_start_token, eos_token]\n",
    "})"
   ]
  },
  {
   "cell_type": "code",
   "execution_count": 8,
   "metadata": {
    "execution": {
     "iopub.execute_input": "2025-02-05T00:44:58.231790Z",
     "iopub.status.busy": "2025-02-05T00:44:58.231215Z",
     "iopub.status.idle": "2025-02-05T00:45:11.744755Z",
     "shell.execute_reply": "2025-02-05T00:45:11.744041Z",
     "shell.execute_reply.started": "2025-02-05T00:44:58.231764Z"
    },
    "trusted": true
   },
   "outputs": [
    {
     "data": {
      "application/vnd.jupyter.widget-view+json": {
       "model_id": "e2c5fc4a771d479389d111bb9e8dc842",
       "version_major": 2,
       "version_minor": 0
      },
      "text/plain": [
       "config.json:   0%|          | 0.00/4.74k [00:00<?, ?B/s]"
      ]
     },
     "metadata": {},
     "output_type": "display_data"
    },
    {
     "data": {
      "application/vnd.jupyter.widget-view+json": {
       "model_id": "0d694dc3d588438984fb3b9a141f4db2",
       "version_major": 2,
       "version_minor": 0
      },
      "text/plain": [
       "pytorch_model.bin:   0%|          | 0.00/809M [00:00<?, ?B/s]"
      ]
     },
     "metadata": {},
     "output_type": "display_data"
    },
    {
     "data": {
      "application/vnd.jupyter.widget-view+json": {
       "model_id": "bcc5f4911a1e448b8e3095a441f0b3a9",
       "version_major": 2,
       "version_minor": 0
      },
      "text/plain": [
       "model.safetensors:   0%|          | 0.00/809M [00:00<?, ?B/s]"
      ]
     },
     "metadata": {},
     "output_type": "display_data"
    },
    {
     "name": "stderr",
     "output_type": "stream",
     "text": [
      "The new embeddings will be initialized from a multivariate normal distribution that has old embeddings' mean and covariance. As described in this article: https://nlp.stanford.edu/~johnhew/vocab-expansion.html. To disable this, use `mean_resizing=False`\n"
     ]
    }
   ],
   "source": [
    "from transformers import VisionEncoderDecoderModel, logging\n",
    "\n",
    "logging.set_verbosity_error()\n",
    "model = VisionEncoderDecoderModel.from_pretrained(\"naver-clova-ix/donut-base\")\n",
    "logging.set_verbosity_warning()\n",
    "\n",
    "model.decoder.resize_token_embeddings(len(processor.tokenizer))\n",
    "model.config.encoder.image_size = processor.image_processor.size[::-1]\n",
    "model.config.decoder.max_length = 512\n",
    "model.config.pad_token_id = processor.tokenizer.pad_token_id\n",
    "model.config.decoder_start_token_id = processor.tokenizer.convert_tokens_to_ids([task_start_token])[0]\n",
    "\n",
    "model.config.vocab_size = len(processor.tokenizer)\n",
    "model.generation_config.max_length = model.config.decoder.max_length\n",
    "model.generation_config.eos_token_id = processor.tokenizer.eos_token_id\n",
    "model.generation_config.pad_token_id = processor.tokenizer.pad_token_id"
   ]
  },
  {
   "cell_type": "code",
   "execution_count": 9,
   "metadata": {
    "execution": {
     "iopub.execute_input": "2025-02-05T00:45:11.746319Z",
     "iopub.status.busy": "2025-02-05T00:45:11.746072Z",
     "iopub.status.idle": "2025-02-05T00:52:47.885731Z",
     "shell.execute_reply": "2025-02-05T00:52:47.884835Z",
     "shell.execute_reply.started": "2025-02-05T00:45:11.746300Z"
    },
    "trusted": true
   },
   "outputs": [
    {
     "data": {
      "application/vnd.jupyter.widget-view+json": {
       "model_id": "f5dac4ba8d9645fabbb6811dccfd1cb3",
       "version_major": 2,
       "version_minor": 0
      },
      "text/plain": [
       "Map:   0%|          | 0/626 [00:00<?, ? examples/s]"
      ]
     },
     "metadata": {},
     "output_type": "display_data"
    }
   ],
   "source": [
    "def preprocess_documents_for_donut(sample):\n",
    "    text = json.loads(sample[\"text\"])\n",
    "    d_doc = task_start_token + json2token(text, update_special_tokens_for_json_key=False) + eos_token\n",
    "    return {\"image\": sample[\"image\"].convert(\"RGB\"), \"text\": d_doc}\n",
    "\n",
    "proc_dataset = dataset.map(preprocess_documents_for_donut)"
   ]
  },
  {
   "cell_type": "code",
   "execution_count": 10,
   "metadata": {
    "execution": {
     "iopub.execute_input": "2025-02-05T00:52:47.887153Z",
     "iopub.status.busy": "2025-02-05T00:52:47.886807Z",
     "iopub.status.idle": "2025-02-05T00:55:19.824913Z",
     "shell.execute_reply": "2025-02-05T00:55:19.824177Z",
     "shell.execute_reply.started": "2025-02-05T00:52:47.887119Z"
    },
    "trusted": true
   },
   "outputs": [
    {
     "data": {
      "application/vnd.jupyter.widget-view+json": {
       "model_id": "6cc5d38cb0fc41f8adcafc49d970ef4b",
       "version_major": 2,
       "version_minor": 0
      },
      "text/plain": [
       "Map:   0%|          | 0/626 [00:00<?, ? examples/s]"
      ]
     },
     "metadata": {},
     "output_type": "display_data"
    },
    {
     "name": "stderr",
     "output_type": "stream",
     "text": [
      "Legacy behavior is being used. The current behavior will be deprecated in version 5.0.0. In the new behavior, if both images and text are provided, the default value of `add_special_tokens` will be changed to `False` when calling the tokenizer if `add_special_tokens` is unset. To test the new behavior, set `legacy=False`as a processor call argument.\n"
     ]
    }
   ],
   "source": [
    "def transform_and_tokenize(sample):\n",
    "    try:\n",
    "        pixel_values = processor(\n",
    "            sample[\"image\"], \n",
    "            return_tensors=\"pt\",\n",
    "        ).pixel_values.squeeze()\n",
    "    except Exception as e:\n",
    "        print(f\"Error processing image: {e}\")\n",
    "        return {}\n",
    "\n",
    "    input_ids = processor.tokenizer(\n",
    "        sample[\"text\"],\n",
    "        add_special_tokens=False,\n",
    "        max_length=512,\n",
    "        padding=\"max_length\",\n",
    "        truncation=True,\n",
    "        return_tensors=\"pt\",\n",
    "    )[\"input_ids\"].squeeze(0)\n",
    "\n",
    "    labels = input_ids.clone()\n",
    "    labels[labels == processor.tokenizer.pad_token_id] = -100\n",
    "    return {\"pixel_values\": pixel_values, \"labels\": labels}\n",
    "\n",
    "processed_dataset = proc_dataset.map(\n",
    "    transform_and_tokenize,\n",
    "    remove_columns=[\"image\", \"text\"]\n",
    ").train_test_split(test_size=0.1)"
   ]
  },
  {
   "cell_type": "code",
   "execution_count": 11,
   "metadata": {
    "execution": {
     "iopub.execute_input": "2025-02-05T00:55:19.826064Z",
     "iopub.status.busy": "2025-02-05T00:55:19.825757Z",
     "iopub.status.idle": "2025-02-05T00:55:20.045450Z",
     "shell.execute_reply": "2025-02-05T00:55:20.044545Z",
     "shell.execute_reply.started": "2025-02-05T00:55:19.826028Z"
    },
    "trusted": true
   },
   "outputs": [
    {
     "name": "stdout",
     "output_type": "stream",
     "text": [
      "Decoder max length: 512\n",
      "Longest label length: 512\n",
      "Number of special tokens: 10\n",
      "Start token ID: 0 (should be 0)\n",
      "Pad token ID: 1 (should be 1)\n",
      "Encoder image size: [960, 720]\n",
      "Processor feature extractor size: [720, 960]\n",
      "Tokenizer vocab size: 57533\n",
      "Decoder embedding size: 57533\n"
     ]
    }
   ],
   "source": [
    "print(f\"Decoder max length: {model.config.decoder.max_length}\")\n",
    "print(f\"Longest label length: {len(max(processed_dataset['train']['labels'], key=len))}\")\n",
    "print(f\"Number of special tokens: {len(processor.tokenizer.additional_special_tokens)}\")\n",
    "print(f\"Start token ID: {model.config.decoder_start_token_id} (should be {processor.tokenizer.convert_tokens_to_ids('<s>')})\")\n",
    "print(f\"Pad token ID: {model.config.pad_token_id} (should be {processor.tokenizer.pad_token_id})\")\n",
    "print(f\"Encoder image size: {model.config.encoder.image_size}\")\n",
    "print(f\"Processor feature extractor size: {processor.image_processor.size}\")\n",
    "print(f\"Tokenizer vocab size: {len(processor.tokenizer)}\")\n",
    "print(f\"Decoder embedding size: {model.decoder.get_input_embeddings().num_embeddings}\")"
   ]
  },
  {
   "cell_type": "code",
   "execution_count": 12,
   "metadata": {
    "execution": {
     "iopub.execute_input": "2025-02-05T00:55:20.046487Z",
     "iopub.status.busy": "2025-02-05T00:55:20.046226Z",
     "iopub.status.idle": "2025-02-05T00:55:23.388954Z",
     "shell.execute_reply": "2025-02-05T00:55:23.388306Z",
     "shell.execute_reply.started": "2025-02-05T00:55:20.046464Z"
    },
    "trusted": true
   },
   "outputs": [
    {
     "data": {
      "application/vnd.jupyter.widget-view+json": {
       "model_id": "7f8743e70061473c84866645753bd940",
       "version_major": 2,
       "version_minor": 0
      },
      "text/plain": [
       "Downloading builder script:   0%|          | 0.00/4.49k [00:00<?, ?B/s]"
      ]
     },
     "metadata": {},
     "output_type": "display_data"
    },
    {
     "data": {
      "application/vnd.jupyter.widget-view+json": {
       "model_id": "294e9a56d43c4c7a814084dffd2387da",
       "version_major": 2,
       "version_minor": 0
      },
      "text/plain": [
       "Downloading builder script:   0%|          | 0.00/5.60k [00:00<?, ?B/s]"
      ]
     },
     "metadata": {},
     "output_type": "display_data"
    }
   ],
   "source": [
    "import numpy as np\n",
    "import evaluate\n",
    "\n",
    "wer_metric = evaluate.load(\"wer\")\n",
    "cer_metric = evaluate.load(\"cer\")\n",
    "\n",
    "def compute_metrics(eval_preds):\n",
    "    preds, labels = eval_preds\n",
    "    labels = np.where(labels != -100, labels, processor.tokenizer.pad_token_id)\n",
    "    \n",
    "    pred_str = processor.tokenizer.batch_decode(preds, skip_special_tokens=True)\n",
    "    label_str = processor.tokenizer.batch_decode(labels, skip_special_tokens=True)\n",
    "    \n",
    "    pred_str = [pred.split(eos_token)[0] for pred in pred_str]\n",
    "    label_str = [label.split(eos_token)[0] for label in label_str]\n",
    "    \n",
    "    wer = wer_metric.compute(predictions=pred_str, references=label_str)\n",
    "    cer = cer_metric.compute(predictions=pred_str, references=label_str)\n",
    "    \n",
    "    return {\"wer\": wer, \"cer\": cer}"
   ]
  },
  {
   "cell_type": "code",
   "execution_count": 13,
   "metadata": {
    "execution": {
     "iopub.execute_input": "2025-02-05T00:55:23.390104Z",
     "iopub.status.busy": "2025-02-05T00:55:23.389815Z",
     "iopub.status.idle": "2025-02-05T00:55:25.355023Z",
     "shell.execute_reply": "2025-02-05T00:55:25.354329Z",
     "shell.execute_reply.started": "2025-02-05T00:55:23.390074Z"
    },
    "trusted": true
   },
   "outputs": [],
   "source": [
    "from transformers import Seq2SeqTrainingArguments, Seq2SeqTrainer, EarlyStoppingCallback\n",
    "\n",
    "class CustomSeq2SeqTrainer(Seq2SeqTrainer):\n",
    "    def compute_loss(self, model, inputs, return_outputs=False, num_items_in_batch=None):\n",
    "        inputs.pop(\"num_items_in_batch\", None)\n",
    "        return super().compute_loss(model, inputs, return_outputs=return_outputs)\n",
    "\n",
    "batch_size = 2\n",
    "gradien_acc = 32\n",
    "\n",
    "training_args = Seq2SeqTrainingArguments(\n",
    "    output_dir=\"donut-base-sroie\",\n",
    "    num_train_epochs=80,\n",
    "    per_device_train_batch_size=batch_size,\n",
    "    per_device_eval_batch_size=batch_size,\n",
    "    gradient_accumulation_steps=gradien_acc,\n",
    "    \n",
    "    optim=\"adamw_torch_fused\",\n",
    "    learning_rate=1e-5,\n",
    "    weight_decay=0.05,\n",
    "    lr_scheduler_type=\"cosine\",\n",
    "    warmup_steps=int(0.1 * (563 / batch_size * gradien_acc)),\n",
    "    \n",
    "    eval_strategy=\"epoch\",\n",
    "    save_strategy=\"epoch\",\n",
    "    logging_strategy=\"epoch\",\n",
    "    \n",
    "    save_total_limit=1,\n",
    "    gradient_checkpointing=True,\n",
    "    gradient_checkpointing_kwargs={\"use_reentrant\": False},\n",
    "    overwrite_output_dir=True,\n",
    "    report_to=\"none\",\n",
    "    \n",
    "    predict_with_generate=True,\n",
    "    max_grad_norm=1.0,\n",
    "    metric_for_best_model=\"eval_wer\",\n",
    "    \n",
    "    greater_is_better=False,\n",
    "    load_best_model_at_end=True,\n",
    "    \n",
    "    dataloader_num_workers=4,\n",
    "    dataloader_prefetch_factor=4,\n",
    "    dataloader_pin_memory=True,\n",
    "    fp16=True,\n",
    "    bf16=False,\n",
    ")\n",
    "\n",
    "trainer = CustomSeq2SeqTrainer(\n",
    "    model=model,\n",
    "    args=training_args,\n",
    "    train_dataset=processed_dataset[\"train\"],\n",
    "    eval_dataset=processed_dataset[\"test\"],\n",
    "    callbacks=[EarlyStoppingCallback(early_stopping_patience=3)],\n",
    ")"
   ]
  },
  {
   "cell_type": "code",
   "execution_count": 14,
   "metadata": {
    "execution": {
     "iopub.execute_input": "2025-02-05T00:55:25.356008Z",
     "iopub.status.busy": "2025-02-05T00:55:25.355771Z",
     "iopub.status.idle": "2025-02-05T02:28:44.380483Z",
     "shell.execute_reply": "2025-02-05T02:28:44.379536Z",
     "shell.execute_reply.started": "2025-02-05T00:55:25.355988Z"
    },
    "trusted": true
   },
   "outputs": [
    {
     "name": "stderr",
     "output_type": "stream",
     "text": [
      "`use_cache=True` is incompatible with gradient checkpointing`. Setting `use_cache=False`...\n"
     ]
    },
    {
     "data": {
      "text/html": [
       "\n",
       "    <div>\n",
       "      \n",
       "      <progress value='170' max='170' style='width:300px; height:20px; vertical-align: middle;'></progress>\n",
       "      [170/170 1:32:32, Epoch 9/10]\n",
       "    </div>\n",
       "    <table border=\"1\" class=\"dataframe\">\n",
       "  <thead>\n",
       " <tr style=\"text-align: left;\">\n",
       "      <th>Epoch</th>\n",
       "      <th>Training Loss</th>\n",
       "      <th>Validation Loss</th>\n",
       "      <th>Wer</th>\n",
       "      <th>Cer</th>\n",
       "    </tr>\n",
       "  </thead>\n",
       "  <tbody>\n",
       "    <tr>\n",
       "      <td>0</td>\n",
       "      <td>125.301000</td>\n",
       "      <td>7.173359</td>\n",
       "      <td>8.884440</td>\n",
       "      <td>4.667817</td>\n",
       "    </tr>\n",
       "    <tr>\n",
       "      <td>1</td>\n",
       "      <td>118.758700</td>\n",
       "      <td>6.541475</td>\n",
       "      <td>6.163785</td>\n",
       "      <td>3.494610</td>\n",
       "    </tr>\n",
       "    <tr>\n",
       "      <td>2</td>\n",
       "      <td>108.348900</td>\n",
       "      <td>5.813296</td>\n",
       "      <td>3.060055</td>\n",
       "      <td>2.106511</td>\n",
       "    </tr>\n",
       "    <tr>\n",
       "      <td>3</td>\n",
       "      <td>98.194700</td>\n",
       "      <td>5.131253</td>\n",
       "      <td>1.182894</td>\n",
       "      <td>1.148340</td>\n",
       "    </tr>\n",
       "    <tr>\n",
       "      <td>4</td>\n",
       "      <td>87.251000</td>\n",
       "      <td>4.534514</td>\n",
       "      <td>1.176524</td>\n",
       "      <td>1.064539</td>\n",
       "    </tr>\n",
       "    <tr>\n",
       "      <td>5</td>\n",
       "      <td>77.956200</td>\n",
       "      <td>4.049232</td>\n",
       "      <td>1.188353</td>\n",
       "      <td>1.063389</td>\n",
       "    </tr>\n",
       "    <tr>\n",
       "      <td>6</td>\n",
       "      <td>69.898500</td>\n",
       "      <td>3.627985</td>\n",
       "      <td>1.040946</td>\n",
       "      <td>1.071008</td>\n",
       "    </tr>\n",
       "    <tr>\n",
       "      <td>7</td>\n",
       "      <td>63.347100</td>\n",
       "      <td>3.245710</td>\n",
       "      <td>1.000000</td>\n",
       "      <td>1.000000</td>\n",
       "    </tr>\n",
       "    <tr>\n",
       "      <td>8</td>\n",
       "      <td>57.257100</td>\n",
       "      <td>2.937681</td>\n",
       "      <td>1.000000</td>\n",
       "      <td>1.060658</td>\n",
       "    </tr>\n",
       "    <tr>\n",
       "      <td>9</td>\n",
       "      <td>51.952700</td>\n",
       "      <td>2.733245</td>\n",
       "      <td>1.000000</td>\n",
       "      <td>0.999569</td>\n",
       "    </tr>\n",
       "  </tbody>\n",
       "</table><p>"
      ],
      "text/plain": [
       "<IPython.core.display.HTML object>"
      ]
     },
     "metadata": {},
     "output_type": "display_data"
    },
    {
     "name": "stderr",
     "output_type": "stream",
     "text": [
      "There were missing keys in the checkpoint model loaded: ['decoder.lm_head.weight'].\n"
     ]
    },
    {
     "data": {
      "text/plain": [
       "TrainOutput(global_step=170, training_loss=85.8266019933364, metrics={'train_runtime': 5597.675, 'train_samples_per_second': 1.006, 'train_steps_per_second': 0.03, 'total_flos': 9.663329593523405e+18, 'train_loss': 85.8266019933364, 'epoch': 9.964539007092199})"
      ]
     },
     "execution_count": 14,
     "metadata": {},
     "output_type": "execute_result"
    }
   ],
   "source": [
    "trainer.train(resume_from_checkpoint=False)"
   ]
  },
  {
   "cell_type": "code",
   "execution_count": 15,
   "metadata": {
    "execution": {
     "iopub.execute_input": "2025-02-05T02:28:44.382736Z",
     "iopub.status.busy": "2025-02-05T02:28:44.382398Z",
     "iopub.status.idle": "2025-02-05T02:28:45.112531Z",
     "shell.execute_reply": "2025-02-05T02:28:45.111593Z",
     "shell.execute_reply.started": "2025-02-05T02:28:44.382710Z"
    },
    "trusted": true
   },
   "outputs": [
    {
     "data": {
      "image/png": "[encoded data removed]",
      "text/plain": [
       "<Figure size 1200x600 with 1 Axes>"
      ]
     },
     "metadata": {},
     "output_type": "display_data"
    }
   ],
   "source": [
    "import matplotlib.pyplot as plt\n",
    "\n",
    "logs = trainer.state.log_history\n",
    "\n",
    "train_loss = [log[\"loss\"] / gradien_acc for log in logs if \"loss\" in log]\n",
    "eval_loss = [log[\"eval_loss\"] for log in logs if \"eval_loss\" in log]\n",
    "epochs = list(range(len(eval_loss)))\n",
    "\n",
    "plt.figure(figsize=(12, 6))\n",
    "plt.plot(epochs, train_loss, label='Training Loss', marker='o', linestyle='-', color='#1f77b4')\n",
    "plt.plot(epochs, eval_loss, label='Validation Loss', marker='s', linestyle='--', color='#ff7f0e')\n",
    "\n",
    "plt.xlabel('Epoch', fontsize=14)\n",
    "plt.ylabel('Loss', fontsize=14)\n",
    "plt.grid(True, linestyle='--', alpha=0.7)\n",
    "plt.legend(fontsize=12)\n",
    "plt.tight_layout()\n",
    "\n",
    "plt.savefig('loss_plot.png', dpi=300)\n",
    "plt.show()"
   ]
  },
  {
   "cell_type": "code",
   "execution_count": 42,
   "metadata": {
    "execution": {
     "iopub.execute_input": "2025-02-05T02:38:35.040171Z",
     "iopub.status.busy": "2025-02-05T02:38:35.039828Z",
     "iopub.status.idle": "2025-02-05T02:38:35.977898Z",
     "shell.execute_reply": "2025-02-05T02:38:35.977039Z",
     "shell.execute_reply.started": "2025-02-05T02:38:35.040140Z"
    },
    "trusted": true
   },
   "outputs": [
    {
     "data": {
      "image/png": "[encoded data removed]",
      "text/plain": [
       "<Figure size 1200x400 with 2 Axes>"
      ]
     },
     "metadata": {},
     "output_type": "display_data"
    }
   ],
   "source": [
    "eval_wer = [log[\"eval_wer\"] for log in logs if \"eval_wer\" in log]\n",
    "eval_cer = [log[\"eval_cer\"] for log in logs if \"eval_cer\" in log]\n",
    "\n",
    "plt.figure(figsize=(12, 4))\n",
    "\n",
    "plt.subplot(1, 2, 1)\n",
    "plt.plot(epochs, eval_wer, label='Validation WER', linestyle='--', color='black')\n",
    "plt.title('Word Error Rate (WER)', fontsize=12)\n",
    "plt.xlabel('Epoch', fontsize=10)\n",
    "plt.ylabel('WER', fontsize=10)\n",
    "plt.grid(True, linestyle='--', alpha=0.7)\n",
    "plt.legend()\n",
    "\n",
    "plt.subplot(1, 2, 2)\n",
    "plt.plot(epochs, eval_cer, label='Validation CER', linestyle='--', color='black')\n",
    "plt.title('Character Error Rate (CER)', fontsize=12)\n",
    "plt.xlabel('Epoch', fontsize=10)\n",
    "plt.ylabel('CER', fontsize=10)\n",
    "plt.grid(True, linestyle='--', alpha=0.7)\n",
    "plt.legend()\n",
    "\n",
    "plt.tight_layout()\n",
    "plt.savefig('metrics_plot.png', dpi=300, bbox_inches='tight')\n",
    "plt.show()"
   ]
  },
  {
   "cell_type": "code",
   "execution_count": 17,
   "metadata": {
    "execution": {
     "iopub.execute_input": "2025-02-05T02:28:46.190526Z",
     "iopub.status.busy": "2025-02-05T02:28:46.190298Z",
     "iopub.status.idle": "2025-02-05T02:28:47.405625Z",
     "shell.execute_reply": "2025-02-05T02:28:47.404727Z",
     "shell.execute_reply.started": "2025-02-05T02:28:46.190508Z"
    },
    "trusted": true
   },
   "outputs": [
    {
     "name": "stdout",
     "output_type": "stream",
     "text": [
      "--SAVED--\n"
     ]
    }
   ],
   "source": [
    "model.save_pretrained(\"./trained_donut\")\n",
    "processor.save_pretrained(\"./trained_donut\")\n",
    "print(\"--SAVED--\")"
   ]
  },
  {
   "cell_type": "code",
   "execution_count": 31,
   "metadata": {
    "execution": {
     "iopub.execute_input": "2025-02-05T02:33:14.508905Z",
     "iopub.status.busy": "2025-02-05T02:33:14.508587Z",
     "iopub.status.idle": "2025-02-05T02:33:18.433295Z",
     "shell.execute_reply": "2025-02-05T02:33:18.432338Z",
     "shell.execute_reply.started": "2025-02-05T02:33:14.508880Z"
    },
    "trusted": true
   },
   "outputs": [],
   "source": [
    "import torch\n",
    "\n",
    "logging.set_verbosity_error()\n",
    "device = \"cuda\" if torch.cuda.is_available() else \"cpu\"\n",
    "model = VisionEncoderDecoderModel.from_pretrained(\"./trained_donut\").to(device)\n",
    "processor = DonutProcessor.from_pretrained(\"./trained_donut\")\n",
    "logging.set_verbosity_warning()"
   ]
  },
  {
   "cell_type": "code",
   "execution_count": 36,
   "metadata": {
    "execution": {
     "iopub.execute_input": "2025-02-05T02:36:01.310172Z",
     "iopub.status.busy": "2025-02-05T02:36:01.309850Z",
     "iopub.status.idle": "2025-02-05T02:36:01.316394Z",
     "shell.execute_reply": "2025-02-05T02:36:01.315497Z",
     "shell.execute_reply.started": "2025-02-05T02:36:01.310148Z"
    },
    "trusted": true
   },
   "outputs": [],
   "source": [
    "def run_prediction(sample, model=model, processor=processor):\n",
    "    pixel_values = torch.tensor(sample[\"pixel_values\"]).unsqueeze(0)\n",
    "    task_prompt = \"<s>\"\n",
    "    decoder_input_ids = processor.tokenizer(task_prompt, add_special_tokens=False, return_tensors=\"pt\").input_ids\n",
    "\n",
    "    outputs = model.generate(\n",
    "        pixel_values.to(device),\n",
    "        decoder_input_ids=decoder_input_ids.to(device),\n",
    "        max_length=model.decoder.config.max_position_embeddings,\n",
    "        early_stopping=True,\n",
    "        pad_token_id=processor.tokenizer.pad_token_id,\n",
    "        eos_token_id=processor.tokenizer.eos_token_id,\n",
    "        use_cache=True,\n",
    "        num_beams=4,\n",
    "        bad_words_ids=[[processor.tokenizer.unk_token_id]],\n",
    "        return_dict_in_generate=True,\n",
    "    )\n",
    "\n",
    "    prediction = processor.batch_decode(outputs.sequences, skip_special_tokens=True)[0]\n",
    "    prediction = processor.token2json(prediction)\n",
    "\n",
    "    labels = np.array(sample[\"labels\"])\n",
    "    labels = np.where(labels != -100, labels, processor.tokenizer.pad_token_id)\n",
    "    label_str = processor.tokenizer.decode(labels, skip_special_tokens=True)\n",
    "    target = processor.token2json(label_str)\n",
    "\n",
    "    return prediction, target"
   ]
  },
  {
   "cell_type": "code",
   "execution_count": 37,
   "metadata": {
    "execution": {
     "iopub.execute_input": "2025-02-05T02:36:01.720976Z",
     "iopub.status.busy": "2025-02-05T02:36:01.720696Z",
     "iopub.status.idle": "2025-02-05T02:36:04.149518Z",
     "shell.execute_reply": "2025-02-05T02:36:04.148607Z",
     "shell.execute_reply.started": "2025-02-05T02:36:01.720950Z"
    },
    "trusted": true
   },
   "outputs": [
    {
     "name": "stdout",
     "output_type": "stream",
     "text": [
      "Reference:\n",
      " {'text_sequence': '87.45 30-05-2018 ONE ONE THREE SEAFOOD RESTAURANT SDN BHD NO., TAMAN SRI DENGKIL, JALAN AIR HITAM 43800 DENGKIL, SELANGOR.'}\n",
      "Prediction:\n",
      " {'text_sequence': 'ONE ONE THREE SEAFOOD RESTAURANT SDN BHD ONE ONE THREE SEAFOOD RESTAURANT SDN BHD N.O.I, TAMAN SRT DENKKI, JALAN AIR HITAM 43800 DENKKI, SELANGOR. (GST REg. Reg. No. : 0006070224334) TAX. Invo 1 ce Table 331 61114:0001-539327 Order#: 139430 ONE ONE THREE SEAFOOD RESTAURANT SDN BHD NO.11, TAMAN SDI, JAMAN SDN BHD藥的藥的藥的藥的藥的藥的藥的藥的藥的藥的藥的藥的藥的藥的藥的藥的藥的藥的藥的藥的藥的藥的藥的藥的藥的藥的藥,'}\n"
     ]
    }
   ],
   "source": [
    "import random\n",
    "\n",
    "test_sample = processed_dataset[\"test\"][random.randint(1, 50)]\n",
    "prediction, target = run_prediction(test_sample)\n",
    "print(f\"Reference:\\n {target}\")\n",
    "print(f\"Prediction:\\n {prediction}\")"
   ]
  }
 ],
 "metadata": {
  "kaggle": {
   "accelerator": "gpu",
   "dataSources": [],
   "dockerImageVersionId": 30840,
   "isGpuEnabled": true,
   "isInternetEnabled": true,
   "language": "python",
   "sourceType": "notebook"
  },
  "kernelspec": {
   "display_name": "Python 3",
   "language": "python",
   "name": "python3"
  },
  "language_info": {
   "codemirror_mode": {
    "name": "ipython",
    "version": 3
   },
   "file_extension": ".py",
   "mimetype": "text/x-python",
   "name": "python",
   "nbconvert_exporter": "python",
   "pygments_lexer": "ipython3",
   "version": "3.10.12"
  }
 },
 "nbformat": 4,
 "nbformat_minor": 4
}
